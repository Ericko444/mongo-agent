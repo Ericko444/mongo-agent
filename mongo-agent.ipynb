{
 "cells": [
  {
   "cell_type": "markdown",
   "id": "24cd663e-27f7-4fc1-b10e-652e15a8059c",
   "metadata": {},
   "source": [
    "# Mongo Agent"
   ]
  },
  {
   "cell_type": "code",
   "execution_count": 1,
   "id": "66a9b5fe-22b5-43ec-81b3-367f192a9639",
   "metadata": {},
   "outputs": [
    {
     "name": "stderr",
     "output_type": "stream",
     "text": [
      "C:\\Works\\AI\\mongo-agent\\.venv\\Lib\\site-packages\\tqdm\\auto.py:21: TqdmWarning: IProgress not found. Please update jupyter and ipywidgets. See https://ipywidgets.readthedocs.io/en/stable/user_install.html\n",
      "  from .autonotebook import tqdm as notebook_tqdm\n"
     ]
    }
   ],
   "source": [
    "from smolagents.agents import ToolCallingAgent\n",
    "from smolagents import tool, LiteLLMModel, CodeAgent\n",
    "from pymongo import MongoClient\n",
    "from datetime import datetime\n",
    "from typing import List, Dict, Optional"
   ]
  },
  {
   "cell_type": "code",
   "execution_count": 2,
   "id": "480b2148-7b5e-4a77-b314-ff17fa2d3ce4",
   "metadata": {},
   "outputs": [],
   "source": [
    "import os\n",
    "from dotenv import load_dotenv\n",
    "\n",
    "load_dotenv()\n",
    "\n",
    "MODEL_ID = \"gpt-4o-mini\"\n",
    "MONGODB_URI = os.getenv(\"MONGO_URI\")\n",
    "OPENAI_API_KEY = os.getenv(\"OPENAI_API_KEY\")\n",
    "debug = os.getenv('DEBUG', 'False').lower() == 'true'"
   ]
  },
  {
   "cell_type": "code",
   "execution_count": 3,
   "id": "9a3f3fa1-80e1-40cc-b700-fd62b05b98c1",
   "metadata": {},
   "outputs": [],
   "source": [
    "mongoclient = MongoClient(MONGODB_URI, appname=\"mongo-agent\")\n",
    "db = mongoclient.warehouse"
   ]
  },
  {
   "cell_type": "code",
   "execution_count": 4,
   "id": "51ed2b0a-c0a3-479c-9675-39b1481f539a",
   "metadata": {},
   "outputs": [],
   "source": [
    "@tool\n",
    "def check_stock(product_id: str) -> Dict:\n",
    "    \"\"\"Query product stock level.\n",
    "\n",
    "    Args:\n",
    "        product_id: Product identifier\n",
    "\n",
    "    Returns:\n",
    "        Dict containing product details and quantity\n",
    "    \"\"\"\n",
    "    return db.products.find_one({\"_id\": product_id})\n",
    "\n",
    "\n",
    "@tool\n",
    "def update_stock(product_id: str, quantity: int) -> bool:\n",
    "    \"\"\"Update product stock quantity.\n",
    "\n",
    "    Args:\n",
    "        product_id: Product identifier\n",
    "        quantity: Amount to decrease from stock\n",
    "\n",
    "    Returns:\n",
    "        bool: Success status\n",
    "    \"\"\"\n",
    "    result = db.products.update_one({\"_id\": product_id}, {\"$inc\": {\"quantity\": -quantity}})\n",
    "    return result.modified_count > 0"
   ]
  },
  {
   "cell_type": "code",
   "execution_count": 5,
   "id": "0ecfdf2b-7b98-4503-8fb8-fad1691ff302",
   "metadata": {},
   "outputs": [],
   "source": [
    "@tool\n",
    "def create_order(products: any, address: str) -> str:\n",
    "    \"\"\"Create new order for all provided products.\n",
    "\n",
    "    Args:\n",
    "        products: List of products with quantities\n",
    "        address: Delivery address\n",
    "\n",
    "    Returns:\n",
    "        str: Order ID message\n",
    "    \"\"\"\n",
    "    order = {\"products\": products, \"status\": \"pending\", \"delivery_address\": address, \"created_at\": datetime.now()}\n",
    "    result = db.orders.insert_one(order)\n",
    "    return f\"Successfully ordered : {str(result.inserted_id)}\""
   ]
  },
  {
   "cell_type": "code",
   "execution_count": 6,
   "id": "a70ce84c-9051-4edd-8f81-3bfa07178d04",
   "metadata": {},
   "outputs": [],
   "source": [
    "from bson.objectid import ObjectId\n",
    "\n",
    "\n",
    "@tool\n",
    "def update_delivery_status(order_id: str, status: str) -> bool:\n",
    "    \"\"\"Update order delivery status to in_transit once a pending order is provided\n",
    "\n",
    "    Args:\n",
    "        order_id: Order identifier\n",
    "        status: New delivery status is being set to in_transit or delivered\n",
    "\n",
    "    Returns:\n",
    "        bool: Success status\n",
    "    \"\"\"\n",
    "    if status not in [\"pending\", \"in_transit\", \"delivered\", \"cancelled\"]:\n",
    "        raise ValueError(\"Invalid delivery status\")\n",
    "\n",
    "    result = db.orders.update_one({\"_id\": ObjectId(order_id), \"status\": \"pending\"}, {\"$set\": {\"status\": status}})\n",
    "    return result.modified_count > 0"
   ]
  },
  {
   "cell_type": "code",
   "execution_count": 17,
   "id": "b8a2ceff-5663-422f-bbc6-9d2df56041de",
   "metadata": {},
   "outputs": [],
   "source": [
    "class OrderManagementSystem:\n",
    "    \"\"\"Multi-agent order management system\"\"\"\n",
    "\n",
    "    def __init__(self, model_id: str = MODEL_ID):\n",
    "        self.model = LiteLLMModel(model_id=model_id, api_key=OPENAI_API_KEY)\n",
    "\n",
    "        # Create managed agents\n",
    "        self.inventory_agent = ToolCallingAgent(\n",
    "            tools=[check_stock, update_stock], \n",
    "            model=self.model,\n",
    "            name=\"inventory\",\n",
    "            description=\"Manages product inventory\"\n",
    "        )\n",
    "\n",
    "        self.order_agent = ToolCallingAgent(\n",
    "            tools=[create_order], \n",
    "            model=self.model,\n",
    "            name=\"orders\", \n",
    "            description=\"Handles order creation\"\n",
    "        )\n",
    "\n",
    "        self.delivery_agent = ToolCallingAgent(\n",
    "            tools=[update_delivery_status], \n",
    "            model=self.model,\n",
    "            name=\"delivery\",\n",
    "            description=\"Manages delivery status\"\n",
    "        )\n",
    "\n",
    "        # Put agents in a list for the manager\n",
    "        self.managed_agents = [\n",
    "            self.inventory_agent,\n",
    "            self.order_agent, \n",
    "            self.delivery_agent\n",
    "        ]\n",
    "\n",
    "        # Create manager agent (remove system_prompt parameter)\n",
    "        self.manager = CodeAgent(\n",
    "            tools=[],\n",
    "            model=self.model,\n",
    "            managed_agents=self.managed_agents,\n",
    "            additional_authorized_imports=[\"time\", \"json\"],\n",
    "        )\n",
    "\n",
    "    def process_order(self, orders: List[Dict]) -> str:\n",
    "        \"\"\"Process a set of orders.\n",
    "\n",
    "        Args:\n",
    "            orders: List of orders each has address and products\n",
    "\n",
    "        Returns:\n",
    "            str: Processing result\n",
    "        \"\"\"\n",
    "        # Include the instructions in the run() method instead\n",
    "        instructions = \"\"\"For each order:\n",
    "        1. Create the order document\n",
    "        2. Update the inventory\n",
    "        3. Set delivery status to in_transit\n",
    "\n",
    "        Use relevant agents to help you with these tasks.\n",
    "        \"\"\"\n",
    "        \n",
    "        return self.manager.run(\n",
    "            f\"{instructions}\\n\\n\"\n",
    "            f\"Process the following {orders} as well as subtract the ordered items from inventory \"\n",
    "            f\"to be delivered to relevant addresses\"\n",
    "        )"
   ]
  },
  {
   "cell_type": "code",
   "execution_count": null,
   "id": "b8ea3a22-4c53-4df9-a4c9-73f504b204f8",
   "metadata": {},
   "outputs": [],
   "source": []
  }
 ],
 "metadata": {
  "kernelspec": {
   "display_name": "Python 3 (ipykernel)",
   "language": "python",
   "name": "python3"
  },
  "language_info": {
   "codemirror_mode": {
    "name": "ipython",
    "version": 3
   },
   "file_extension": ".py",
   "mimetype": "text/x-python",
   "name": "python",
   "nbconvert_exporter": "python",
   "pygments_lexer": "ipython3",
   "version": "3.12.1"
  }
 },
 "nbformat": 4,
 "nbformat_minor": 5
}
