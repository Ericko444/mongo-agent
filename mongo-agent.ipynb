{
 "cells": [
  {
   "cell_type": "markdown",
   "id": "24cd663e-27f7-4fc1-b10e-652e15a8059c",
   "metadata": {},
   "source": [
    "# Mongo Agent"
   ]
  },
  {
   "cell_type": "code",
   "execution_count": 2,
   "id": "66a9b5fe-22b5-43ec-81b3-367f192a9639",
   "metadata": {},
   "outputs": [],
   "source": [
    "from smolagents.agents import ToolCallingAgent\n",
    "from smolagents import tool, LiteLLMModel, CodeAgent\n",
    "from pymongo import MongoClient\n",
    "from datetime import datetime\n",
    "from typing import List, Dict, Optional"
   ]
  },
  {
   "cell_type": "code",
   "execution_count": 4,
   "id": "480b2148-7b5e-4a77-b314-ff17fa2d3ce4",
   "metadata": {},
   "outputs": [],
   "source": [
    "import os\n",
    "from dotenv import load_dotenv\n",
    "\n",
    "load_dotenv()\n",
    "\n",
    "MODEL_ID = \"gpt-4o-mini\"\n",
    "MONGODB_URI = os.getenv(\"MONGO_URI\")\n",
    "OPENAI_API_KEY = os.getenv(\"OPENAI_API_KEY\")\n",
    "debug = os.getenv('DEBUG', 'False').lower() == 'true'"
   ]
  },
  {
   "cell_type": "code",
   "execution_count": 5,
   "id": "9a3f3fa1-80e1-40cc-b700-fd62b05b98c1",
   "metadata": {},
   "outputs": [],
   "source": [
    "mongoclient = MongoClient(MONGODB_URI, appname=\"mongo-agent\")\n",
    "db = mongoclient.warehouse"
   ]
  },
  {
   "cell_type": "code",
   "execution_count": null,
   "id": "51ed2b0a-c0a3-479c-9675-39b1481f539a",
   "metadata": {},
   "outputs": [],
   "source": []
  }
 ],
 "metadata": {
  "kernelspec": {
   "display_name": "Python 3 (ipykernel)",
   "language": "python",
   "name": "python3"
  },
  "language_info": {
   "codemirror_mode": {
    "name": "ipython",
    "version": 3
   },
   "file_extension": ".py",
   "mimetype": "text/x-python",
   "name": "python",
   "nbconvert_exporter": "python",
   "pygments_lexer": "ipython3",
   "version": "3.12.1"
  }
 },
 "nbformat": 4,
 "nbformat_minor": 5
}
